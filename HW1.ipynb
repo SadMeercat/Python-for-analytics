{
 "cells": [
  {
   "attachments": {},
   "cell_type": "markdown",
   "metadata": {},
   "source": [
    "## 1. На складе лежат разные фрукты в разном количестве.\n",
    "### Нужно написать функцию, которая на вход принимает любое количество названий фруктов и их количество, а возвращает общее количество фруктов на складе"
   ]
  },
  {
   "cell_type": "code",
   "execution_count": 12,
   "metadata": {},
   "outputs": [],
   "source": [
    "def calc(dict: dict):\n",
    "    sum = 0\n",
    "    for i in dict:\n",
    "        sum += dict[i]\n",
    "    return sum"
   ]
  },
  {
   "cell_type": "code",
   "execution_count": 13,
   "metadata": {},
   "outputs": [
    {
     "data": {
      "text/plain": [
       "6"
      ]
     },
     "execution_count": 13,
     "metadata": {},
     "output_type": "execute_result"
    }
   ],
   "source": [
    "products = {\"Яблоко\" : 1,\n",
    "\"Арбуз\" : 2,\n",
    "\"Груша\" : 3}\n",
    "\n",
    "calc(products)"
   ]
  },
  {
   "attachments": {},
   "cell_type": "markdown",
   "metadata": {},
   "source": [
    "## 2. Дан список с затратами на рекламу. Но в данных есть ошибки, некоторые затраты имеют отрицательную величину. \n",
    "### Удалите такие значения из списка и посчитайте суммарные затраты\n",
    "Используйте list comprehensions"
   ]
  },
  {
   "cell_type": "code",
   "execution_count": 14,
   "metadata": {},
   "outputs": [],
   "source": [
    "my_array = [100, 125, -90, 345, 655, -1, 0, 200]"
   ]
  },
  {
   "cell_type": "code",
   "execution_count": 15,
   "metadata": {},
   "outputs": [
    {
     "data": {
      "text/plain": [
       "[100, 125, 345, 655, 0, 200]"
      ]
     },
     "execution_count": 15,
     "metadata": {},
     "output_type": "execute_result"
    }
   ],
   "source": [
    "new_array = list(filter(lambda x: x>=0, my_array))\n",
    "new_array"
   ]
  },
  {
   "attachments": {},
   "cell_type": "markdown",
   "metadata": {},
   "source": [
    "## 3. Даны два списка."
   ]
  },
  {
   "cell_type": "code",
   "execution_count": 16,
   "metadata": {},
   "outputs": [],
   "source": [
    "#Дата покупки\n",
    "dates = ['2021-09-14', '2021-12-15', '2021-09-08', '2021-12-05', '2021-10-09', '2021-09-30', '2021-12-22', '2021-11-29', '2021-12-24', '2021-11-26', '2021-10-27', '2021-12-18', '2021-11-09', '2021-11-23', '2021-09-27', '2021-10-02', '2021-12-27', '2021-09-20', '2021-12-13', '2021-11-01', '2021-11-09', '2021-12-06', '2021-12-08', '2021-10-09', '2021-10-31', '2021-09-30', '2021-11-09', '2021-12-13', '2021-10-26', '2021-12-09']"
   ]
  },
  {
   "cell_type": "code",
   "execution_count": 17,
   "metadata": {},
   "outputs": [],
   "source": [
    "#Суммы покупок по датам\n",
    "cost = [1270, 8413, 9028, 3703, 5739, 4095, 295, 4944, 5723, 3701, 4471, 651, 7037, 4274, 6275, 4988, 6930, 2971, 6592, 2004, 2822, 519, 3406, 2732, 5015, 2008, 316, 6333, 5700, 2887]"
   ]
  },
  {
   "attachments": {},
   "cell_type": "markdown",
   "metadata": {},
   "source": [
    "### Найдите, какая выручка у компании в ноябре\n",
    "Используйте list comprehensions"
   ]
  },
  {
   "cell_type": "code",
   "execution_count": 18,
   "metadata": {},
   "outputs": [
    {
     "data": {
      "text/plain": [
       "{datetime.datetime(2021, 9, 14, 0, 0): 1270,\n",
       " datetime.datetime(2021, 12, 15, 0, 0): 8413,\n",
       " datetime.datetime(2021, 9, 8, 0, 0): 9028,\n",
       " datetime.datetime(2021, 12, 5, 0, 0): 3703,\n",
       " datetime.datetime(2021, 10, 9, 0, 0): 2732,\n",
       " datetime.datetime(2021, 9, 30, 0, 0): 2008,\n",
       " datetime.datetime(2021, 12, 22, 0, 0): 295,\n",
       " datetime.datetime(2021, 11, 29, 0, 0): 4944,\n",
       " datetime.datetime(2021, 12, 24, 0, 0): 5723,\n",
       " datetime.datetime(2021, 11, 26, 0, 0): 3701,\n",
       " datetime.datetime(2021, 10, 27, 0, 0): 4471,\n",
       " datetime.datetime(2021, 12, 18, 0, 0): 651,\n",
       " datetime.datetime(2021, 11, 9, 0, 0): 316,\n",
       " datetime.datetime(2021, 11, 23, 0, 0): 4274,\n",
       " datetime.datetime(2021, 9, 27, 0, 0): 6275,\n",
       " datetime.datetime(2021, 10, 2, 0, 0): 4988,\n",
       " datetime.datetime(2021, 12, 27, 0, 0): 6930,\n",
       " datetime.datetime(2021, 9, 20, 0, 0): 2971,\n",
       " datetime.datetime(2021, 12, 13, 0, 0): 6333,\n",
       " datetime.datetime(2021, 11, 1, 0, 0): 2004,\n",
       " datetime.datetime(2021, 12, 6, 0, 0): 519,\n",
       " datetime.datetime(2021, 12, 8, 0, 0): 3406,\n",
       " datetime.datetime(2021, 10, 31, 0, 0): 5015,\n",
       " datetime.datetime(2021, 10, 26, 0, 0): 5700,\n",
       " datetime.datetime(2021, 12, 9, 0, 0): 2887}"
      ]
     },
     "execution_count": 18,
     "metadata": {},
     "output_type": "execute_result"
    }
   ],
   "source": [
    "import datetime as dt\n",
    "new_dates = list(map(lambda x: dt.datetime.strptime(x, '%Y-%m-%d'), dates))\n",
    "date_cost = dict(zip(new_dates, cost))\n",
    "date_cost"
   ]
  },
  {
   "cell_type": "code",
   "execution_count": 19,
   "metadata": {},
   "outputs": [
    {
     "data": {
      "text/plain": [
       "15239"
      ]
     },
     "execution_count": 19,
     "metadata": {},
     "output_type": "execute_result"
    }
   ],
   "source": [
    "sum = 0\n",
    "for i in date_cost:\n",
    "    if i.date().month == 11:\n",
    "        sum += date_cost[i]\n",
    "sum"
   ]
  },
  {
   "attachments": {},
   "cell_type": "markdown",
   "metadata": {},
   "source": [
    "### Найдите выручку компании в зависимости от месяца\n",
    "Для этого напишите функцию, которая на вход принимает список с датами и список с выручкой, а на выходе словарь, где ключи - это месяцы, а значения - это выручка."
   ]
  },
  {
   "cell_type": "code",
   "execution_count": 20,
   "metadata": {},
   "outputs": [],
   "source": [
    "def to_dict(dates : list, costs: list):\n",
    "    dates = list(map(lambda x: dt.datetime.strptime(x, '%Y-%m-%d'), dates))\n",
    "    tmp_dict = dict(zip(dates, cost))\n",
    "    result_dict = {}\n",
    "    for i in tmp_dict:\n",
    "        try:\n",
    "            result_dict[i.date().month] += tmp_dict[i]\n",
    "        except KeyError:\n",
    "            result_dict[i.date().month] = tmp_dict[i]\n",
    "    return result_dict\n",
    "\n"
   ]
  },
  {
   "cell_type": "code",
   "execution_count": 23,
   "metadata": {},
   "outputs": [
    {
     "data": {
      "text/plain": [
       "{9: 21552, 10: 22906, 11: 15239, 12: 38860}"
      ]
     },
     "execution_count": 23,
     "metadata": {},
     "output_type": "execute_result"
    }
   ],
   "source": [
    "my_dict = dict(sorted(to_dict(dates, cost).items(), key=lambda x: x[0]))\n",
    "my_dict"
   ]
  }
 ],
 "metadata": {
  "kernelspec": {
   "display_name": ".env",
   "language": "python",
   "name": "python3"
  },
  "language_info": {
   "codemirror_mode": {
    "name": "ipython",
    "version": 3
   },
   "file_extension": ".py",
   "mimetype": "text/x-python",
   "name": "python",
   "nbconvert_exporter": "python",
   "pygments_lexer": "ipython3",
   "version": "3.9.7"
  },
  "orig_nbformat": 4,
  "vscode": {
   "interpreter": {
    "hash": "733dd70d186f9468ea6898d34acd53683324c3bebd35b05d98302a356b342b48"
   }
  }
 },
 "nbformat": 4,
 "nbformat_minor": 2
}
